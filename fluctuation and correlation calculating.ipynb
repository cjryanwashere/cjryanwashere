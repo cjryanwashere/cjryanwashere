{
 "cells": [
  {
   "cell_type": "code",
   "execution_count": 1,
   "id": "744aa1d3",
   "metadata": {},
   "outputs": [],
   "source": [
    "#this uses the python library for cpptraj\n",
    "\n",
    "\n",
    "import pytraj as pt"
   ]
  },
  {
   "cell_type": "code",
   "execution_count": 2,
   "id": "eded7d84",
   "metadata": {},
   "outputs": [],
   "source": [
    "traj = pt.load('heat1.nc','TRPcage.prmtop') #here are sample files"
   ]
  },
  {
   "cell_type": "code",
   "execution_count": 3,
   "id": "e0199255",
   "metadata": {},
   "outputs": [
    {
     "data": {
      "text/plain": [
       "pytraj.Trajectory, 200 frames: \n",
       "Size: 0.001359 (GB)\n",
       "<Topology: 304 atoms, 20 residues, 1 mols, non-PBC>\n",
       "           "
      ]
     },
     "execution_count": 3,
     "metadata": {},
     "output_type": "execute_result"
    }
   ],
   "source": [
    "traj"
   ]
  },
  {
   "cell_type": "code",
   "execution_count": 4,
   "id": "fadfa3dc",
   "metadata": {},
   "outputs": [],
   "source": [
    "#this function is what gathers the calculations over random timeframes with given number of samples and timesteps\n",
    "import datetime\n",
    "import random\n",
    "\n",
    "def gatherData(traj):\n",
    "    timeSteps = input(\"Enter number of timesteps: \")\n",
    "    timeSteps = int(timeSteps)\n",
    "    if timeSteps>len(traj):\n",
    "        print(\"Error: timestep selection is greater than timesteps in the trajectory file\")\n",
    "        return\n",
    "    sampleAmount = input(\"Enter sample amount:\")\n",
    "    sampleAmount = int(sampleAmount)\n",
    "    \n",
    "    startTime = datetime.datetime.now()\n",
    "    print(\"beginning proccess with \",timeSteps,\" timesteps, and \", sampleAmount, \" samples, at \", startTime)\n",
    "    \n",
    "    samples=[]\n",
    "    for i in range(sampleAmount):\n",
    "        start = random.randint(0, (len(traj)-1)-timeSteps)\n",
    "        end = start+timeSteps\n",
    "        \n",
    "        trajSample = traj[start:end]\n",
    "        fluctSample = pt.atomicfluct(trajSample)\n",
    "        corrSample = [pt.atomiccorr(trajSample)]\n",
    "        \n",
    "        dataArray = [trajSample, fluctSample, corrSample]\n",
    "        samples.append(dataArray)\n",
    "    \n",
    "    print(\"Finished after: \", datetime.datetime.now()-startTime)\n",
    "    return samples"
   ]
  },
  {
   "cell_type": "code",
   "execution_count": 6,
   "id": "98447d69",
   "metadata": {},
   "outputs": [
    {
     "name": "stdout",
     "output_type": "stream",
     "text": [
      "Enter number of timesteps: 100\n",
      "Enter sample amount:30\n",
      "beginning proccess with  100  timesteps, and  30  samples, at  2021-10-03 21:04:45.546127\n",
      "Finished after:  0:00:00.730706\n"
     ]
    }
   ],
   "source": [
    "finishedData = gatherData(traj)"
   ]
  },
  {
   "cell_type": "code",
   "execution_count": 7,
   "id": "21ade003",
   "metadata": {},
   "outputs": [],
   "source": [
    "import os\n",
    "import IPython as py"
   ]
  },
  {
   "cell_type": "code",
   "execution_count": 8,
   "id": "e7eb21ec",
   "metadata": {},
   "outputs": [],
   "source": [
    "#Searches the os for files that have .nc or .prmtop in their name.\n",
    "\n",
    "\n",
    "def searchDir(dirArray):\n",
    "    viableFiles = []\n",
    "    for i in dirArray:\n",
    "        length=len(i)\n",
    "        trajIndex = i.find(\".nc\")\n",
    "        topIndex = i.find(\".prmtop\")\n",
    "        \n",
    "        if length-(trajIndex)==3 or length-(topIndex)==7:\n",
    "            if trajIndex != -1:\n",
    "                viableFiles.append(i)\n",
    "            if topIndex != -1:\n",
    "                viableFiles.append(i)\n",
    "            \n",
    "    return viableFiles\n",
    "\n",
    "def searchForFiles():\n",
    "    path=\"/Users/\"\n",
    "    print(os.listdir(path))\n",
    "    \n",
    "    while True:\n",
    "        py.display.clear_output()\n",
    "        print(\"Path: \", path)\n",
    "        dir = os.listdir(path)\n",
    "        print(\"Directories: \")\n",
    "        for i in dir:\n",
    "            print(\"   \",i)\n",
    "        print(\"useable files: \")\n",
    "        udir=searchDir(dir)\n",
    "        for i in udir:\n",
    "            print(i)\n",
    "        \n",
    "        \n",
    "        command = input(\"choose a directory, or type 'stop'\")\n",
    "        \n",
    "        \n",
    "        \n",
    "        \n",
    "        if command == 'stop':\n",
    "            break\n",
    "        for i in dir:\n",
    "            if command==i:\n",
    "                path=os.path.join(path, i)\n",
    "            \n",
    "        "
   ]
  },
  {
   "cell_type": "code",
   "execution_count": 9,
   "id": "638b4795",
   "metadata": {
    "scrolled": false
   },
   "outputs": [
    {
     "name": "stdout",
     "output_type": "stream",
     "text": [
      "Path:  /Users/cjryan/Desktop/cpdWeb\n",
      "Directories: \n",
      "    heat2.mdcrd\n",
      "    .DS_Store\n",
      "    heat1.mdcrd\n",
      "    fluctuation and correlation calculating.ipynb\n",
      "    TRPcage.prmtop\n",
      "    heat1.nc.gz\n",
      "    .ipynb_checkpoints\n",
      "    heat1.nc\n",
      "useable files: \n",
      "TRPcage.prmtop\n",
      "heat1.nc\n",
      "choose a directory, or type 'stop'stop\n"
     ]
    }
   ],
   "source": [
    "searchForFiles()"
   ]
  },
  {
   "cell_type": "code",
   "execution_count": 10,
   "id": "736a3f18",
   "metadata": {},
   "outputs": [],
   "source": [
    "#This is just me trying out another library I found that works with cpptraj, and models the protein\n",
    "\n",
    "supTraj = traj.superpose(mask=\"@Ca\",ref=0)"
   ]
  },
  {
   "cell_type": "code",
   "execution_count": 11,
   "id": "30aa0fd4",
   "metadata": {},
   "outputs": [
    {
     "data": {
      "application/vnd.jupyter.widget-view+json": {
       "model_id": "ace7c0706a1d407881c9eecdda1885dc",
       "version_major": 2,
       "version_minor": 0
      },
      "text/plain": []
     },
     "metadata": {},
     "output_type": "display_data"
    },
    {
     "data": {
      "application/vnd.jupyter.widget-view+json": {
       "model_id": "83c8a23467974a718068893678c189a6",
       "version_major": 2,
       "version_minor": 0
      },
      "text/plain": [
       "NGLWidget(max_frame=199)"
      ]
     },
     "metadata": {},
     "output_type": "display_data"
    }
   ],
   "source": [
    "view = supTraj.view()\n",
    "view"
   ]
  }
 ],
 "metadata": {
  "kernelspec": {
   "display_name": "proTraj",
   "language": "python",
   "name": "protraj"
  },
  "language_info": {
   "codemirror_mode": {
    "name": "ipython",
    "version": 3
   },
   "file_extension": ".py",
   "mimetype": "text/x-python",
   "name": "python",
   "nbconvert_exporter": "python",
   "pygments_lexer": "ipython3",
   "version": "3.8.8"
  }
 },
 "nbformat": 4,
 "nbformat_minor": 5
}
