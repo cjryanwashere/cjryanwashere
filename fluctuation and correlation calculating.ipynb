{
 "cells": [
  {
   "cell_type": "code",
   "execution_count": 1,
   "id": "744aa1d3",
   "metadata": {},
   "outputs": [],
   "source": [
    "#this is a revised version of the code. the functions are run in the bottom using user input,\n",
    "#which will be replaced by client side interaction\n",
    "\n",
    "\n",
    "import pytraj as pt"
   ]
  },
  {
   "cell_type": "code",
   "execution_count": 2,
   "id": "fadfa3dc",
   "metadata": {},
   "outputs": [],
   "source": [
    "#this function is what gathers the calculations over random timeframes with given number of samples and timesteps\n",
    "import datetime\n",
    "import random\n",
    "\n",
    "def gatherData(traj):\n",
    "    timeSteps = input(\"Enter number of timesteps: \")\n",
    "    timeSteps = int(timeSteps)\n",
    "    if timeSteps>len(traj):\n",
    "        print(\"Error: timestep selection is greater than timesteps in the trajectory file\")\n",
    "        return\n",
    "    sampleAmount = input(\"Enter sample amount:\")\n",
    "    sampleAmount = int(sampleAmount)\n",
    "    \n",
    "    startTime = datetime.datetime.now()\n",
    "    print(\"beginning proccess with \",timeSteps,\" timesteps, and \", sampleAmount, \" samples, at \", startTime)\n",
    "    \n",
    "    samples=[]\n",
    "    for i in range(sampleAmount):\n",
    "        start = random.randint(0, (len(traj)-1)-timeSteps)\n",
    "        end = start+timeSteps\n",
    "        \n",
    "        trajSample = traj[start:end]\n",
    "        fluctSample = pt.atomicfluct(trajSample)\n",
    "        corrSample = [pt.atomiccorr(trajSample)]\n",
    "        \n",
    "        dataArray = [trajSample, fluctSample, corrSample]\n",
    "        samples.append(dataArray)\n",
    "    \n",
    "    print(\"Finished after: \", datetime.datetime.now()-startTime)\n",
    "    return samples"
   ]
  },
  {
   "cell_type": "code",
   "execution_count": 3,
   "id": "21ade003",
   "metadata": {},
   "outputs": [],
   "source": [
    "import os\n",
    "import IPython as py"
   ]
  },
  {
   "cell_type": "code",
   "execution_count": 4,
   "id": "e7eb21ec",
   "metadata": {},
   "outputs": [],
   "source": [
    "#Searches the os for files that have .nc or .prmtop in their name.\n",
    "\n",
    "\n",
    "def searchDir(dirArray):\n",
    "    viableFiles = []\n",
    "    for i in dirArray:\n",
    "        length=len(i)\n",
    "        trajIndex = i.find(\".nc\")\n",
    "        topIndex = i.find(\".prmtop\")\n",
    "        \n",
    "        if length-(trajIndex)==3 or length-(topIndex)==7:\n",
    "            if trajIndex != -1:\n",
    "                viableFiles.append(i)\n",
    "            if topIndex != -1:\n",
    "                viableFiles.append(i)\n",
    "            \n",
    "    return viableFiles\n",
    "\n",
    "def searchForFiles():\n",
    "    path=\"/Users/\"\n",
    "    print(os.listdir(path))\n",
    "    \n",
    "    while True:\n",
    "        py.display.clear_output()\n",
    "        print(\"Path: \", path)\n",
    "        dir = os.listdir(path)\n",
    "        print(\"Directories: \")\n",
    "        for i in dir:\n",
    "            print(\"   \",i)\n",
    "        print(\"useable files: \")\n",
    "        udir=searchDir(dir)\n",
    "        for i in udir:\n",
    "            print(\"   \",i)\n",
    "        \n",
    "        \n",
    "        command = input(\"choose a directory, type 'stop', or type 'choose' \")\n",
    "        \n",
    "        \n",
    "        if command == 'choose':\n",
    "            trajFile = input(\"type the name of the .nc file\")\n",
    "            topFile = input(\"type the name of the .prmtop file\")\n",
    "            \n",
    "            return trajFile, topFile\n",
    "        \n",
    "        if command == 'stop':\n",
    "            break\n",
    "        for i in dir:\n",
    "            if command==i:\n",
    "                path=os.path.join(path, i)\n",
    "            \n",
    "        "
   ]
  },
  {
   "cell_type": "code",
   "execution_count": 5,
   "id": "6a035467",
   "metadata": {},
   "outputs": [],
   "source": [
    "def doEverything():\n",
    "    trajFile, topFile = searchForFiles()\n",
    "    \n",
    "    traj = pt.load(trajFile, topFile)\n",
    "    \n",
    "    data = gatherData(traj)"
   ]
  },
  {
   "cell_type": "code",
   "execution_count": 6,
   "id": "638b4795",
   "metadata": {
    "scrolled": false
   },
   "outputs": [
    {
     "name": "stdout",
     "output_type": "stream",
     "text": [
      "Path:  /Users/cjryan/Desktop/cpdWeb\n",
      "Directories: \n",
      "    heat2.mdcrd\n",
      "    .DS_Store\n",
      "    heat1.mdcrd\n",
      "    fluctuation and correlation calculating.ipynb\n",
      "    TRPcage.prmtop\n",
      "    heat1.nc.gz\n",
      "    .ipynb_checkpoints\n",
      "    heat1.nc\n",
      "useable files: \n",
      "    TRPcage.prmtop\n",
      "    heat1.nc\n",
      "choose a directory, type 'stop', or type 'choose' choose\n",
      "type the name of the .nc fileheat1.nc\n",
      "type the name of the .prmtop fileTRPcage.prmtop\n",
      "Enter number of timesteps: 100\n",
      "Enter sample amount:50\n",
      "beginning proccess with  100  timesteps, and  50  samples, at  2021-10-05 16:03:54.395105\n",
      "Finished after:  0:00:01.172782\n"
     ]
    }
   ],
   "source": [
    "#all of the code is executed here. this runs off user input, but should later be changed to user interaction in \n",
    "#client side code.\n",
    "\n",
    "doEverything()"
   ]
  }
 ],
 "metadata": {
  "kernelspec": {
   "display_name": "proTraj",
   "language": "python",
   "name": "protraj"
  },
  "language_info": {
   "codemirror_mode": {
    "name": "ipython",
    "version": 3
   },
   "file_extension": ".py",
   "mimetype": "text/x-python",
   "name": "python",
   "nbconvert_exporter": "python",
   "pygments_lexer": "ipython3",
   "version": "3.8.8"
  }
 },
 "nbformat": 4,
 "nbformat_minor": 5
}
